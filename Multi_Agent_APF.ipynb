{
  "nbformat": 4,
  "nbformat_minor": 0,
  "metadata": {
    "colab": {
      "provenance": [],
      "toc_visible": true,
      "authorship_tag": "ABX9TyNrWoWcb+tc3IR5nFuaZeSS",
      "include_colab_link": true
    },
    "kernelspec": {
      "name": "python3",
      "display_name": "Python 3"
    },
    "language_info": {
      "name": "python"
    }
  },
  "cells": [
    {
      "cell_type": "markdown",
      "metadata": {
        "id": "view-in-github",
        "colab_type": "text"
      },
      "source": [
        "<a href=\"https://colab.research.google.com/github/RiverTwilight/Awesome-Machine-Learning-Playground/blob/master/Multi_Agent_APF.ipynb\" target=\"_parent\"><img src=\"https://colab.research.google.com/assets/colab-badge.svg\" alt=\"Open In Colab\"/></a>"
      ]
    },
    {
      "cell_type": "markdown",
      "source": [
        "# Overview\n",
        "\n",
        "The Artificial Potential Field (APF) algorithm is a method for robot path planning that is used to control the robot for avoiding obstacles in front of it\n",
        ". The APF algorithm considers the robot as a point in potential fields and then combines stretching toward the target and repulsion of obstacles. The final path of the output is the intended path"
      ],
      "metadata": {
        "id": "ij2RH_uiMVd_"
      }
    },
    {
      "cell_type": "markdown",
      "source": [
        "# Single Agent APF"
      ],
      "metadata": {
        "id": "bUeBFBnZMjNW"
      }
    },
    {
      "cell_type": "code",
      "source": [
        "import numpy as np\n",
        "import matplotlib.pyplot as plt\n",
        "\n",
        "class Vector2D:\n",
        "    def __init__(self, x, y):\n",
        "        self.deltaX = x\n",
        "        self.deltaY = y\n",
        "        self.length = np.sqrt(x**2 + y**2)\n",
        "        self.direction = [0, 0] if self.length == 0 else [x/self.length, y/self.length]\n",
        "\n",
        "    def __add__(self, other):\n",
        "        return Vector2D(self.deltaX + other.deltaX, self.deltaY + other.deltaY)\n",
        "\n",
        "    def __sub__(self, other):\n",
        "        return Vector2D(self.deltaX - other.deltaX, self.deltaY - other.deltaY)\n",
        "\n",
        "    def __mul__(self, k):\n",
        "        return Vector2D(self.deltaX * k, self.deltaY * k)\n",
        "\n",
        "    def __div__(self, k):\n",
        "        return Vector2D(self.deltaX / k, self.deltaY / k)\n",
        "\n",
        "class Basic_APF:\n",
        "    def __init__(self, _start, _goal, _obstacles, _k_att, _k_rep, _rr, _step_size, _max_iters, _goal_threashold):\n",
        "        self.start = _start\n",
        "        self.goal = _goal\n",
        "        self.obstacles = _obstacles\n",
        "        self.k_att = _k_att\n",
        "        self.k_rep = _k_rep\n",
        "        self.rr = _rr\n",
        "        self.step_size = _step_size\n",
        "        self.max_iters = _max_iters\n",
        "        self.goal_threashold = _goal_threashold\n",
        "        self.current_pos = _start\n",
        "        self.iters = 0\n",
        "        self.is_path_plan_success = False\n",
        "        self.path = []\n",
        "\n",
        "    def attractive(self):\n",
        "        return (self.goal - self.current_pos) * self.k_att\n",
        "\n",
        "    def repulsion(self):\n",
        "        rep = Vector2D(0, 0)\n",
        "        for obs in self.obstacles:\n",
        "            t_vec = self.current_pos - obs\n",
        "            if t_vec.length <= self.rr:\n",
        "                rep = rep + (Vector2D(t_vec.direction[0], t_vec.direction[1]) * self.k_rep) * ((1.0 / t_vec.length - 1.0 / self.rr) / (t_vec.length**2))\n",
        "        return rep\n",
        "\n",
        "    def path_plan(self):\n",
        "        while self.iters < self.max_iters and (self.current_pos - self.goal).length > self.goal_threashold:\n",
        "            force_rep = self.repulsion()\n",
        "            force_att = self.attractive()\n",
        "            force_vec = force_rep + force_att\n",
        "            self.current_pos = self.current_pos + Vector2D(force_vec.direction[0], force_vec.direction[1]) * self.step_size\n",
        "            self.iters += 1\n",
        "            self.path.append(self.current_pos)\n",
        "        if (self.current_pos - self.goal).length <= self.goal_threashold:\n",
        "            self.is_path_plan_success = True\n",
        "        return self.is_path_plan_success\n",
        "\n",
        "class Improved_APF(Basic_APF):\n",
        "    def __init__(self, _start, _goal, _obstacles, _k_att, _k_rep, _rr, _step_size, _max_iters, _goal_threashold):\n",
        "        super().__init__(_start, _goal, _obstacles, _k_att, _k_rep, _rr, _step_size, _max_iters, _goal_threashold)\n",
        "\n",
        "    def repulsion(self):\n",
        "        rep = Vector2D(0, 0)\n",
        "        n = 2  # Exponent in the repulsion term\n",
        "        for obs in self.obstacles:\n",
        "            obs_to_rob = self.current_pos - obs\n",
        "            rob_to_goal = self.goal - self.current_pos\n",
        "            if obs_to_rob.length < self.rr:\n",
        "                rep_1_magnitude = self.k_rep * (1.0 / obs_to_rob.length - 1.0 / self.rr) / (obs_to_rob.length**2) * (rob_to_goal.length**n)\n",
        "                rep_1 = Vector2D(obs_to_rob.direction[0] * rep_1_magnitude, obs_to_rob.direction[1] * rep_1_magnitude)\n",
        "                rep_2_magnitude = self.k_rep * (n / 2) * ((1.0 / obs_to_rob.length - 1.0 / self.rr)**2) * (rob_to_goal.length**(n - 1))\n",
        "                rep_2 = Vector2D(rob_to_goal.direction[0] * rep_2_magnitude, rob_to_goal.direction[1] * rep_2_magnitude)\n",
        "                rep = rep + (rep_1 + rep_2)\n",
        "        return rep"
      ],
      "metadata": {
        "id": "MU18zHpODIRn"
      },
      "execution_count": null,
      "outputs": []
    },
    {
      "cell_type": "code",
      "source": [
        "k_att = 1.0\n",
        "k_rep = 0.8\n",
        "rr = 2\n",
        "step_size = 0.2\n",
        "max_iters = 500\n",
        "goal_threashold = 0.2\n",
        "step_size_ = 2\n",
        "start = Vector2D(0, 0)\n",
        "goal = Vector2D(15, 15)\n",
        "obstacles = [Vector2D(2, 3), Vector2D(2, 4), Vector2D(3, 5), Vector2D(5.5, 1), Vector2D(6, 6), Vector2D(10, 6), Vector2D(13, 12), Vector2D(14, 14)]\n",
        "\n",
        "apf = Improved_APF(start, goal, obstacles, k_att, k_rep, rr, step_size, max_iters, goal_threashold)\n",
        "is_successed = apf.path_plan()\n",
        "\n",
        "# Extract the planned path\n",
        "planned_path = apf.path\n",
        "print(is_successed)"
      ],
      "metadata": {
        "colab": {
          "base_uri": "https://localhost:8080/"
        },
        "id": "_xyQ-9lyM-Xk",
        "outputId": "a486f98f-8dff-4574-9678-3ca6448a3b8b"
      },
      "execution_count": null,
      "outputs": [
        {
          "output_type": "stream",
          "name": "stdout",
          "text": [
            "True\n"
          ]
        }
      ]
    },
    {
      "cell_type": "code",
      "source": [
        "plt.figure()\n",
        "plt.plot(start.deltaX, start.deltaY, 'go', label='Start')\n",
        "plt.plot(goal.deltaX, goal.deltaY, 'ro', label='Goal')\n",
        "for obs in obstacles:\n",
        "    plt.plot(obs.deltaX, obs.deltaY, 'ko', label='Obstacle')\n",
        "x_path = [pos.deltaX for pos in planned_path]\n",
        "y_path = [pos.deltaY for pos in planned_path]\n",
        "plt.plot(x_path, y_path, label='Planned path')\n",
        "plt.legend()\n",
        "plt.show()"
      ],
      "metadata": {
        "id": "5ltlDqyoM5pc"
      },
      "execution_count": null,
      "outputs": []
    }
  ]
}