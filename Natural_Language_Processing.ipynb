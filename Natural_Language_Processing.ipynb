{
  "nbformat": 4,
  "nbformat_minor": 0,
  "metadata": {
    "colab": {
      "provenance": [],
      "toc_visible": true,
      "authorship_tag": "ABX9TyN2ONDG0JT6RdGjv+8wc8uz",
      "include_colab_link": true
    },
    "kernelspec": {
      "name": "python3",
      "display_name": "Python 3"
    },
    "language_info": {
      "name": "python"
    }
  },
  "cells": [
    {
      "cell_type": "markdown",
      "metadata": {
        "id": "view-in-github",
        "colab_type": "text"
      },
      "source": [
        "<a href=\"https://colab.research.google.com/github/RiverTwilight/Awesome-Machine-Learning-Playground/blob/master/Natural_Language_Processing.ipynb\" target=\"_parent\"><img src=\"https://colab.research.google.com/assets/colab-badge.svg\" alt=\"Open In Colab\"/></a>"
      ]
    },
    {
      "cell_type": "markdown",
      "source": [
        "# Overview\n",
        "\n",
        "This shows how to process\n",
        "\n",
        "Note: It's recommend to read the [Handwritten_Digits_Detection]() first. Some basic concepts and codes are explained there."
      ],
      "metadata": {
        "id": "mDTIwtCYALv7"
      }
    },
    {
      "cell_type": "code",
      "source": [
        "!pip install kora -q\n",
        "from kora import drive\n",
        "drive.link_nbs()\n",
        "from Handwritten_Digits_Detection import Relu, Affine, AdaGard"
      ],
      "metadata": {
        "id": "_-XZlvzavc55"
      },
      "execution_count": null,
      "outputs": []
    },
    {
      "cell_type": "markdown",
      "source": [
        "# Data Process\n",
        "\n",
        "In order to put the complex the data into neural network, the most-used solution is to convert the data to vector space. In this part we'll discuss how to convert the natural text data into vectors."
      ],
      "metadata": {
        "id": "VXyinmCk9vVe"
      }
    },
    {
      "cell_type": "markdown",
      "source": [
        "## Word co-occurrence matrix\n",
        "\n",
        "Usually the meaning of a word depends on the context. A word co-occurrence matrix reprents how many times has a word appear around another word. \n",
        "\n",
        "Consider this sentence:\n",
        "```markdown\n",
        " You are my friend and I am his friend. \n",
        "```\n",
        "First we remove the duplicate words and we can create a table like this:\n",
        "\n",
        "\\begin{array}{ccc}\n",
        "\\text{ }&\\text{You}&\\text{are}&\\text{my}&\\text{friend}&\\text{and}&\\text{I}&\\text{am}&\\text{his}&\\text{.}\\\\\n",
        "\\text{You}&\\text{0}&\\text{1}&\\text{0}&\\text{0}&\\text{0}&\\text{0}&\\text{0}&\\text{0}&\\text{0}\\\\\n",
        "\\text{are}\\\\\n",
        "\\text{my}\\\\\n",
        "\\text{friend}\\\\\n",
        "\\text{and}\\\\\n",
        "\\text{I}\\\\\n",
        "\\text{am}\\\\\n",
        "\\text{his}\\\\\n",
        "\\end{array}\n"
      ],
      "metadata": {
        "id": "u_W945-M3fon"
      }
    },
    {
      "cell_type": "code",
      "source": [
        "import numpy as np\n",
        "import matplotlib.pyplot as plt\n",
        "\n",
        "def postprocess(text):\n",
        "    text = text.lower()\n",
        "    text = text.replace('.', \" .\")\n",
        "\n",
        "    words = text.split(' ')\n",
        "\n",
        "    word_to_id = {}\n",
        "    id_to_word = {}\n",
        "\n",
        "    for word in words:\n",
        "        new_id = len(word_to_id)\n",
        "        word_to_id.setdefault(word, new_id)\n",
        "        id_to_word.setdefault(new_id, word)\n",
        "    \n",
        "    corpus = [word_to_id[w] for w in words]\n",
        "    corpus = np.array(corpus)\n",
        "\n",
        "    return (word_to_id, id_to_word, corpus)\n",
        "\n",
        "def create_co_matrix(corpus, vocab_size, windows_size=1):\n",
        "    corpus_size = len(corpus)\n",
        "    co_matrix = np.zeros((vocab_size, vocab_size), dtype=np.int32)\n",
        "\n",
        "    for idx, word_id in enumerate(corpus):\n",
        "        for i in range(windows_size):\n",
        "            left_idx = idx - 1\n",
        "            right_idx = idx + 1\n",
        "\n",
        "            if left_idx >= 0:\n",
        "                left_word_id = corpus[left_idx]\n",
        "                co_matrix[word_id, left_word_id] += 1\n",
        "\n",
        "            if right_idx < corpus_size:\n",
        "                right_word_id = corpus[right_idx]\n",
        "                co_matrix[word_id, right_word_id] += 1\n",
        "\n",
        "    return co_matrix\n",
        "\n",
        "(word_to_id, id_to_word, corpus) = postprocess(\"You are my friend and I am his friend.\")\n",
        "\n",
        "C = create_co_matrix(corpus, len(corpus), 1)"
      ],
      "metadata": {
        "id": "SU7QRZBxps3S"
      },
      "execution_count": 9,
      "outputs": []
    },
    {
      "cell_type": "markdown",
      "source": [
        "But this doesn't represnet the link between word very well. Thus we introduced the PMI. The $P(x)$ denote the probablity of the event x.\n",
        "\n",
        "$$ PMI(x, y) = log_{2}\\frac{P(x, y)}{P(x)P(y)} $$\n",
        "\n",
        "But as the volcabulary grows, use a 2-dimension array like this is not efficient.\n",
        "\n",
        "$$ X=USV^{t} $$"
      ],
      "metadata": {
        "id": "FImNwpIcry0e"
      }
    },
    {
      "cell_type": "code",
      "source": [
        "def ppmi(C, verbose=False, eps=1e-8):\n",
        "    M = np.zeros_like(C, dtype=np.float32)\n",
        "    N = np.sum(C)\n",
        "    S = np.sum(C, axis=0)\n",
        "    total = C.shape[0] * C.shape[1]\n",
        "    cnt = 0\n",
        "\n",
        "    for i in range(C.shape[0]):\n",
        "        for j in range(C.shape[1]):\n",
        "            pmi = np.log2(C[i, j] * N / (S[j] * S[i]) + eps)\n",
        "            M[i, j] = max(0, pmi)\n",
        "\n",
        "            if verbose:\n",
        "                cnt += 1\n",
        "                if cnt % (total//100+1) == 0:\n",
        "                    print('%.1f%% done' % (100*cnt/total))\n",
        "\n",
        "    return M\n",
        "\n",
        "np.set_printoptions(precision=3)\n",
        "W = ppmi(C)\n",
        "\n",
        "U, S, V = np.linalg.svd(W)\n",
        "print(U) \n",
        "for word, word_id in word_to_id.items():\n",
        "    plt.annotate(word, (U[word_id, 0], U[word_id, 1]))\n",
        "plt.scatter(U[:,0], U[:, 1], alpha=0.5)\n",
        "plt.show()"
      ],
      "metadata": {
        "colab": {
          "base_uri": "https://localhost:8080/",
          "height": 812
        },
        "id": "APd_lfTcr9pf",
        "outputId": "17243cf3-9599-430c-962e-b5613890b9e7"
      },
      "execution_count": 11,
      "outputs": [
        {
          "output_type": "stream",
          "name": "stdout",
          "text": [
            "[[-3.846e-01 -5.220e-01 -4.094e-01  7.078e-16  2.816e-01 -2.196e-01\n",
            "   7.934e-17  1.349e-01 -5.161e-01  0.000e+00]\n",
            " [-4.941e-01  6.541e-01 -4.806e-01 -1.765e-17 -2.653e-01 -1.585e-01\n",
            "  -7.224e-18 -4.055e-02  0.000e+00  0.000e+00]\n",
            " [-3.654e-01 -4.348e-01 -2.261e-01  1.801e-16 -4.631e-02  1.537e-01\n",
            "  -1.498e-16 -1.792e-01  7.539e-01  0.000e+00]\n",
            " [-3.556e-01  2.632e-01  1.722e-01  1.026e-16  6.102e-01  5.944e-01\n",
            "   4.200e-17  2.212e-01  0.000e+00  0.000e+00]\n",
            " [-2.604e-01 -9.605e-02  2.938e-01 -3.717e-01 -3.444e-01 -1.847e-02\n",
            "   6.015e-01  4.665e-01  0.000e+00  0.000e+00]\n",
            " [-2.971e-01  3.393e-02  4.110e-01  6.015e-01  1.449e-01 -3.400e-01\n",
            "   3.717e-01 -3.242e-01  1.110e-16  0.000e+00]\n",
            " [-2.971e-01  3.393e-02  4.110e-01 -6.015e-01  1.449e-01 -3.400e-01\n",
            "  -3.717e-01 -3.242e-01 -1.110e-16  0.000e+00]\n",
            " [-2.604e-01 -9.605e-02  2.938e-01  3.717e-01 -3.444e-01 -1.847e-02\n",
            "  -6.015e-01  4.665e-01 -2.776e-16  0.000e+00]\n",
            " [-1.895e-01 -1.438e-01  1.004e-01 -5.551e-16 -4.434e-01  5.638e-01\n",
            "  -1.110e-16 -5.036e-01 -4.065e-01  0.000e+00]\n",
            " [ 0.000e+00  0.000e+00  0.000e+00  0.000e+00  0.000e+00  0.000e+00\n",
            "   0.000e+00  0.000e+00  0.000e+00  1.000e+00]]\n"
          ]
        },
        {
          "output_type": "stream",
          "name": "stderr",
          "text": [
            "<ipython-input-11-adf6c5d89f16>:10: RuntimeWarning: invalid value encountered in long_scalars\n",
            "  pmi = np.log2(C[i, j] * N / (S[j] * S[i]) + eps)\n"
          ]
        },
        {
          "output_type": "display_data",
          "data": {
            "text/plain": [
              "<Figure size 640x480 with 1 Axes>"
            ],
            "image/png": "[encoded data removed]"
          },
          "metadata": {}
        }
      ]
    },
    {
      "cell_type": "markdown",
      "source": [
        "## Similarity\n",
        "\n",
        "Our goal is to implement the sentence based on the context. So we have to calculate the similarity between the words.\n",
        "\n",
        "For example, we want the machine know that \"I\", \"You\" and \"He\" are simliary words in the English. This part we will calc the similarity of vectors."
      ],
      "metadata": {
        "id": "RnEOqnlj20k0"
      }
    },
    {
      "cell_type": "markdown",
      "source": [
        "# Layers\n",
        "\n",
        "adsfasdfas"
      ],
      "metadata": {
        "id": "QHMPpGuZvBym"
      }
    },
    {
      "cell_type": "markdown",
      "source": [
        "# Training\n",
        "\n"
      ],
      "metadata": {
        "id": "6chCC5d4zcf6"
      }
    },
    {
      "cell_type": "markdown",
      "source": [
        "# Reference\n",
        "\n",
        "1. Saito Kokih. Deep Learning from Scratch 2: Natural Language Processing[M]. Japan: O'Reilly Japan, 2018.\n",
        "\n",
        "2. Khelifi Ahmed Aziz. Medium. Learn How to Write Markdown & LaTeX in The Jupyter Notebook (https://towardsdatascience.com/write-markdown-latex-in-the-jupyter-notebook-10985edb91fd)"
      ],
      "metadata": {
        "id": "1XwkDgJRNlIw"
      }
    }
  ]
}
