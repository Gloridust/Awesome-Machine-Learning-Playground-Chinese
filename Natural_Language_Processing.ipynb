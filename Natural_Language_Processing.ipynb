{
  "nbformat": 4,
  "nbformat_minor": 0,
  "metadata": {
    "colab": {
      "provenance": [],
      "authorship_tag": "ABX9TyNKcU/5r+Nb19I/kVSePCAH",
      "include_colab_link": true
    },
    "kernelspec": {
      "name": "python3",
      "display_name": "Python 3"
    },
    "language_info": {
      "name": "python"
    }
  },
  "cells": [
    {
      "cell_type": "markdown",
      "metadata": {
        "id": "view-in-github",
        "colab_type": "text"
      },
      "source": [
        "<a href=\"https://colab.research.google.com/github/RiverTwilight/Awesome-Machine-Learning-Playground/blob/master/Natural_Language_Processing.ipynb\" target=\"_parent\"><img src=\"https://colab.research.google.com/assets/colab-badge.svg\" alt=\"Open In Colab\"/></a>"
      ]
    },
    {
      "cell_type": "markdown",
      "source": [
        "# Processing Natural Lanuage with Deep Learming\n",
        "\n",
        "This shows how to process\n"
      ],
      "metadata": {
        "id": "mDTIwtCYALv7"
      }
    },
    {
      "cell_type": "markdown",
      "source": [
        "## Data Process\n",
        "\n",
        "In order to\n",
        "\n",
        "### Wrod2Vec"
      ],
      "metadata": {
        "id": "VXyinmCk9vVe"
      }
    }
  ]
}